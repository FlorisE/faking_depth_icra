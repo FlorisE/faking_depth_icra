{
 "cells": [
  {
   "cell_type": "markdown",
   "metadata": {},
   "source": [
    "# ClearGrasp evaluation"
   ]
  },
  {
   "cell_type": "code",
   "execution_count": 1,
   "metadata": {},
   "outputs": [],
   "source": [
    "import os\n",
    "import sys\n",
    "import glob\n",
    "import numpy as np\n",
    "from tqdm import tqdm_notebook\n",
    "import matplotlib.pyplot as plt\n",
    "import imageio\n",
    "\n",
    "sys.path.append('/tf/cleargrasp')"
   ]
  },
  {
   "cell_type": "code",
   "execution_count": 2,
   "metadata": {},
   "outputs": [],
   "source": [
    "sys.path.append('..')\n",
    "import helper_functions"
   ]
  },
  {
   "cell_type": "code",
   "execution_count": 3,
   "metadata": {},
   "outputs": [],
   "source": [
    "IMG_HEIGHT = 720\n",
    "IMG_WIDTH = 1280"
   ]
  },
  {
   "cell_type": "code",
   "execution_count": 4,
   "metadata": {},
   "outputs": [],
   "source": [
    "def parse_raw_depth_bin(filename, height, width):\n",
    "    with open(filename, \"rb\") as f:\n",
    "        a = f.read()\n",
    "        mat = np.ndarray(shape=(height, width, 1), dtype='uint16', buffer=a)\n",
    "        return mat"
   ]
  },
  {
   "cell_type": "code",
   "execution_count": 5,
   "metadata": {},
   "outputs": [
    {
     "name": "stdout",
     "output_type": "stream",
     "text": [
      "Transparent depth test size: 26\n",
      "Transparent rgb matching size: 26\n"
     ]
    }
   ],
   "source": [
    "transparent_depth_files = sorted(glob.glob('../data/val/transparent/depth/*.bin'))\n",
    "transparent_rgb_files = sorted(glob.glob('../data/val/transparent/color/*.png'))\n",
    "print(f\"Transparent depth test size: {len(transparent_depth_files)}\")\n",
    "print(f\"Transparent rgb matching size: {len(transparent_rgb_files)}\")\n",
    "\n",
    "transparent_depth = [(parse_raw_depth_bin(transparent_depth_file, IMG_HEIGHT, IMG_WIDTH)).astype(np.float32) / 1000 for transparent_depth_file in transparent_depth_files]\n",
    "transparent_color = [helper_functions.parse_rgb_img(transparent_rgb_file, IMG_HEIGHT, IMG_WIDTH, mono=False, crop=False) for transparent_rgb_file in transparent_rgb_files]"
   ]
  },
  {
   "cell_type": "code",
   "execution_count": 6,
   "metadata": {},
   "outputs": [
    {
     "name": "stdout",
     "output_type": "stream",
     "text": [
      "Jupyter environment detected. Enabling Open3D WebVisualizer.\n",
      "[Open3D INFO] WebRTC GUI backend enabled.\n",
      "[Open3D INFO] WebRTCWindowSystem: HTTP handshake server disabled.\n",
      "Creating DRN model for normals and loading checkpoint\n",
      "Creating DRN model for outlines and loading checkpoint\n",
      "Creating DRN model for masks and loading checkpoint\n"
     ]
    }
   ],
   "source": [
    "from api import depth_completion_api\n",
    "\n",
    "depthcomplete = depth_completion_api.DepthToDepthCompletion(normalsWeightsFile='/root/data/cleargrasp/cleargrasp-checkpoints/surface_normals/checkpoint_normals.pth',\n",
    "                                                            outlinesWeightsFile='/root/data/cleargrasp/cleargrasp-checkpoints/outlines/checkpoint_outlines.pth',\n",
    "                                                            masksWeightsFile='/root/data/cleargrasp/cleargrasp-checkpoints/mask_segmentation/checkpoint_mask.pth',\n",
    "                                                            normalsModel='drn',\n",
    "                                                            outlinesModel='drn',\n",
    "                                                            masksModel='drn',\n",
    "                                                            depth2depthExecutable='/tf/cleargrasp/api/depth2depth/gaps/bin/x86_64/depth2depth',\n",
    "                                                            outputImgHeight=int(IMG_HEIGHT),\n",
    "                                                            outputImgWidth=int(IMG_WIDTH),\n",
    "                                                            fx=924,\n",
    "                                                            fy=924,\n",
    "                                                            cx=360,\n",
    "                                                            cy=640,\n",
    "                                                            filter_d=0,\n",
    "                                                            filter_sigmaColor=3,\n",
    "                                                            filter_sigmaSpace=3,\n",
    "                                                            maskinferenceHeight=256,\n",
    "                                                            maskinferenceWidth=256,\n",
    "                                                            normalsInferenceHeight=256,\n",
    "                                                            normalsInferenceWidth=256,\n",
    "                                                            outlinesInferenceHeight=256,\n",
    "                                                            outlinesInferenceWidth=256,\n",
    "                                                            min_depth=0,\n",
    "                                                            max_depth=3.0,\n",
    "                                                            tmp_dir='/root/data/cleargrasp/captures')"
   ]
  },
  {
   "cell_type": "code",
   "execution_count": 7,
   "metadata": {},
   "outputs": [],
   "source": [
    "def save_depth_bin(i, depth):\n",
    "    depth_scaled = depth*1000\n",
    "    depth_scaled.astype('uint16').tofile(f'../data/val/cleargrasp_depth/{i:0>2}.bin')"
   ]
  },
  {
   "cell_type": "code",
   "execution_count": 8,
   "metadata": {},
   "outputs": [
    {
     "name": "stderr",
     "output_type": "stream",
     "text": [
      "/usr/local/lib/python3.6/dist-packages/ipykernel_launcher.py:6: TqdmDeprecationWarning: This function will be removed in tqdm==5.0.0\n",
      "Please use `tqdm.notebook.tqdm` instead of `tqdm.tqdm_notebook`\n",
      "  \n"
     ]
    },
    {
     "data": {
      "application/vnd.jupyter.widget-view+json": {
       "model_id": "42fe33fccebc428ba7f420d6c03f9f96",
       "version_major": 2,
       "version_minor": 0
      },
      "text/plain": [
       "  0%|          | 0/26 [00:00<?, ?it/s]"
      ]
     },
     "metadata": {},
     "output_type": "display_data"
    }
   ],
   "source": [
    "output_depths = []\n",
    "output_surface_normals_rgb = []\n",
    "output_mask_predicted = []\n",
    "output_outlines_rgb = []\n",
    "\n",
    "for i in tqdm_notebook(range(len(transparent_color))):\n",
    "    rgb = transparent_color[i]\n",
    "    depth = transparent_depth[i]\n",
    "    output_depth, filtered_output_depth = depthcomplete.depth_completion(\n",
    "                    rgb,\n",
    "                    depth,\n",
    "                    inertia_weight=1000.0,\n",
    "                    smoothness_weight=0.001,\n",
    "                    tangent_weight=1.0,\n",
    "                    mode_modify_input_depth='mask')\n",
    "    output_surface_normals_rgb.append(depthcomplete.surface_normals_rgb)\n",
    "    output_outlines_rgb.append(depthcomplete.outlines_rgb)\n",
    "    output_mask_predicted.append(depthcomplete.mask_predicted)\n",
    "    output_depths.append(output_depth)\n",
    "    save_depth_bin(i, output_depth)\n",
    "    imageio.imwrite(f'../data/val/cleargrasp_mask/{i}.png', depthcomplete.mask_predicted)\n",
    "    imageio.imwrite(f'../data/val/cleargrasp_normals/{i}.png', depthcomplete.surface_normals_rgb)\n",
    "    imageio.imwrite(f'../data/val/cleargrasp_outlines/{i}.png', depthcomplete.outlines_rgb)"
   ]
  },
  {
   "cell_type": "code",
   "execution_count": null,
   "metadata": {},
   "outputs": [],
   "source": [
    "for i in range(len(output_surface_normals_rgb)):\n",
    "    plt.imshow(output_surface_normals_rgb[0])"
   ]
  },
  {
   "cell_type": "code",
   "execution_count": null,
   "metadata": {},
   "outputs": [],
   "source": [
    "output_mask_predicted"
   ]
  },
  {
   "cell_type": "code",
   "execution_count": null,
   "metadata": {},
   "outputs": [],
   "source": [
    "def crop_depth_d2d(mat):\n",
    "    m, n, _ = mat.shape\n",
    "    if m > n:\n",
    "        margin = int((m - n) / 2)\n",
    "        return mat[margin:margin+n,:]\n",
    "    elif n > m:\n",
    "        margin = int((n - m) / 2)\n",
    "        return mat[:,margin:margin+m,:]\n",
    "    return mat"
   ]
  },
  {
   "cell_type": "code",
   "execution_count": null,
   "metadata": {},
   "outputs": [],
   "source": [
    "for i in range(len(output_depths)):\n",
    "    depth = output_depths[i]\n",
    "    plt.imshow(depth, vmin=0.5, vmax=1.0)\n",
    "    plt.colorbar()\n",
    "    plt.show()"
   ]
  }
 ],
 "metadata": {
  "kernelspec": {
   "display_name": "Python 3 (ipykernel)",
   "language": "python",
   "name": "python3"
  },
  "language_info": {
   "codemirror_mode": {
    "name": "ipython",
    "version": 3
   },
   "file_extension": ".py",
   "mimetype": "text/x-python",
   "name": "python",
   "nbconvert_exporter": "python",
   "pygments_lexer": "ipython3",
   "version": "3.9.12"
  }
 },
 "nbformat": 4,
 "nbformat_minor": 4
}
